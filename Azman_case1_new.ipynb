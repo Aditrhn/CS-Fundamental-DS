{
  "nbformat": 4,
  "nbformat_minor": 0,
  "metadata": {
    "colab": {
      "provenance": []
    },
    "kernelspec": {
      "name": "python3",
      "display_name": "Python 3"
    },
    "language_info": {
      "name": "python"
    }
  },
  "cells": [
    {
      "cell_type": "markdown",
      "source": [
        "# Case 1\n",
        "Pada hari raya idul fitri, Pak Ardi ingin memberikan uang ampao kepada keponakannya. Dia memiliki uang Rp  576,000  yang akan dibagikan ke  9  keponakannya. Buatlah program python untuk memudahkan Pak Ardi dalam membagi uang ampao agar sama rata kepada keponakannya !"
      ],
      "metadata": {
        "id": "2KwhTftMsOxH"
      }
    },
    {
      "cell_type": "code",
      "source": [
        "uang = 576000 #jumlah uang\n",
        "n = 9 #jumlah ponakan\n",
        "jumlah = uang/n\n",
        "jumlah1 = str(jumlah)\n",
        "print ('jumlah uang ampao per anak : RP ' + jumlah1)"
      ],
      "metadata": {
        "id": "nm06olIhsZoc"
      },
      "execution_count": null,
      "outputs": []
    }
  ]
}